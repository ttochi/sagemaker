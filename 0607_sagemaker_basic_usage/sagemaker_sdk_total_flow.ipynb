{
 "cells": [
  {
   "cell_type": "markdown",
   "metadata": {},
   "source": [
    "# SageMaker SDK를 이용한 전체 학습 flow\n",
    "\n",
    "## train, test, validate data 분리"
   ]
  },
  {
   "cell_type": "code",
   "execution_count": 2,
   "metadata": {},
   "outputs": [],
   "source": [
    "import pandas as pd\n",
    "import numpy as np\n",
    "from sklearn.model_selection import train_test_split\n",
    "\n",
    "df = pd.read_csv(\"kc_house_data.csv\")\n",
    "\n",
    "# 훈련, 검증 및 검정 분할\n",
    "ys = np.array(df['price']).astype(\"float32\")\n",
    "xs = np.array(df['sqft_living']).astype(\"float32\").reshape(-1,1)\n",
    "\n",
    "np.random.seed(8675309)\n",
    "train_features, test_features, train_labels, test_labels = train_test_split(xs, ys, test_size=0.2)\n",
    "val_features, test_features, val_labels, test_labels = train_test_split(test_features, test_labels, test_size=0.5)"
   ]
  },
  {
   "cell_type": "markdown",
   "metadata": {},
   "source": [
    "## Built-in algorithm을 이용한 학습"
   ]
  },
  {
   "cell_type": "code",
   "execution_count": 3,
   "metadata": {},
   "outputs": [
    {
     "name": "stderr",
     "output_type": "stream",
     "text": [
      "Defaulting to the only supported framework/algorithm version: 1. Ignoring framework/algorithm version: 1.\n"
     ]
    },
    {
     "name": "stdout",
     "output_type": "stream",
     "text": [
      "\n",
      "2021-05-21 03:30:47 Starting - Starting the training job\n",
      "2021-05-21 03:30:49 Starting - Launching requested ML instances...............\n",
      "2021-05-21 03:32:13 Starting - Preparing the instances for training..............\n",
      "2021-05-21 03:33:27 Downloading - Downloading input data....\n",
      "2021-05-21 03:33:52 Training - Downloading the training image....\n",
      "2021-05-21 03:34:17 Training - Training image download completed. Training in progress..\n",
      "2021-05-21 03:34:28 Uploading - Uploading generated training model.\n",
      "2021-05-21 03:34:36 Completed - Training job completed\n"
     ]
    },
    {
     "data": {
      "text/html": [
       "<div>\n",
       "<style scoped>\n",
       "    .dataframe tbody tr th:only-of-type {\n",
       "        vertical-align: middle;\n",
       "    }\n",
       "\n",
       "    .dataframe tbody tr th {\n",
       "        vertical-align: top;\n",
       "    }\n",
       "\n",
       "    .dataframe thead th {\n",
       "        text-align: right;\n",
       "    }\n",
       "</style>\n",
       "<table border=\"1\" class=\"dataframe\">\n",
       "  <thead>\n",
       "    <tr style=\"text-align: right;\">\n",
       "      <th></th>\n",
       "      <th>timestamp</th>\n",
       "      <th>metric_name</th>\n",
       "      <th>value</th>\n",
       "    </tr>\n",
       "  </thead>\n",
       "  <tbody>\n",
       "    <tr>\n",
       "      <th>0</th>\n",
       "      <td>0.0</td>\n",
       "      <td>test:mse</td>\n",
       "      <td>6.960262e+10</td>\n",
       "    </tr>\n",
       "    <tr>\n",
       "      <th>1</th>\n",
       "      <td>0.0</td>\n",
       "      <td>test:absolute_loss</td>\n",
       "      <td>1.754493e+05</td>\n",
       "    </tr>\n",
       "  </tbody>\n",
       "</table>\n",
       "</div>"
      ],
      "text/plain": [
       "   timestamp         metric_name         value\n",
       "0        0.0            test:mse  6.960262e+10\n",
       "1        0.0  test:absolute_loss  1.754493e+05"
      ]
     },
     "execution_count": 3,
     "metadata": {},
     "output_type": "execute_result"
    }
   ],
   "source": [
    "import sagemaker\n",
    "\n",
    "# 모델 정의\n",
    "linear_model = sagemaker.LinearLearner(role='arn:aws:iam::834160605896:role/service-role/AmazonSageMaker-ExecutionRole-20210317T125074',\n",
    "                                       base_job_name='0521-flow-train',\n",
    "                                       instance_count=1,\n",
    "                                       instance_type='ml.m4.xlarge',\n",
    "                                       predictor_type='regressor')\n",
    "\n",
    "# 학습\n",
    "train_records = linear_model.record_set(train_features, train_labels, channel='train')\n",
    "val_records = linear_model.record_set(val_features, val_labels, channel='validation')\n",
    "test_records = linear_model.record_set(test_features, test_labels, channel='test')\n",
    "\n",
    "linear_model.fit([train_records, val_records, test_records], logs=False)\n",
    "\n",
    "# 결과 확인\n",
    "sagemaker.analytics.TrainingJobAnalytics(linear_model._current_job_name, metric_names = ['test:mse', 'test:absolute_loss']).dataframe()"
   ]
  },
  {
   "cell_type": "markdown",
   "metadata": {},
   "source": [
    "## Hyperparameter Optimization"
   ]
  },
  {
   "cell_type": "code",
   "execution_count": 4,
   "metadata": {},
   "outputs": [],
   "source": [
    "from sagemaker.parameter import (\n",
    "    CategoricalParameter,\n",
    "    ContinuousParameter,\n",
    "    IntegerParameter,\n",
    "    ParameterRange,\n",
    ")\n",
    "from sagemaker.amazon.hyperparameter import Hyperparameter\n",
    "from sagemaker.tuner import HyperparameterTuner\n",
    "import sagemaker\n",
    "\n",
    "hyperparameter_ranges = {'learning_rate': ContinuousParameter(0.0001, 0.1, scaling_type='Logarithmic'),\n",
    "                        'use_bias': CategoricalParameter([True, False])}"
   ]
  },
  {
   "cell_type": "code",
   "execution_count": 5,
   "metadata": {},
   "outputs": [],
   "source": [
    "objective_metric_name = 'test:mse'\n",
    "objective_type = 'Minimize'"
   ]
  },
  {
   "cell_type": "code",
   "execution_count": 18,
   "metadata": {},
   "outputs": [],
   "source": [
    "tuner = HyperparameterTuner(linear_model,\n",
    "                            objective_metric_name,\n",
    "                            hyperparameter_ranges,\n",
    "                            max_jobs=3,\n",
    "                            max_parallel_jobs=3,\n",
    "                            objective_type=objective_type,\n",
    "                            base_tuning_job_name='0521-flow-hpo')"
   ]
  },
  {
   "cell_type": "code",
   "execution_count": 19,
   "metadata": {},
   "outputs": [
    {
     "name": "stderr",
     "output_type": "stream",
     "text": [
      "Defaulting to the only supported framework/algorithm version: 1. Ignoring framework/algorithm version: 1.\n"
     ]
    },
    {
     "name": "stdout",
     "output_type": "stream",
     "text": [
      ".......................................................!\n"
     ]
    }
   ],
   "source": [
    "tuner.fit([train_records, val_records, test_records], include_cls_metadata=False)"
   ]
  },
  {
   "cell_type": "code",
   "execution_count": 21,
   "metadata": {},
   "outputs": [
    {
     "data": {
      "text/plain": [
       "'Completed'"
      ]
     },
     "execution_count": 21,
     "metadata": {},
     "output_type": "execute_result"
    }
   ],
   "source": [
    "# hyperparameter tuning 작업 결과 분석\n",
    "\n",
    "import boto3\n",
    "\n",
    "sagemaker_client = boto3.client('sagemaker')\n",
    "\n",
    "job_name = tuner.latest_tuning_job.job_name\n",
    "\n",
    "tuner_describe = sagemaker_client.describe_hyper_parameter_tuning_job(\n",
    "    HyperParameterTuningJobName=job_name)['HyperParameterTuningJobStatus']\n",
    "tuner_describe"
   ]
  },
  {
   "cell_type": "code",
   "execution_count": 22,
   "metadata": {},
   "outputs": [
    {
     "data": {
      "text/plain": [
       "{'TrainingJobName': '0521-flow-hpo-210521-0413-001-f79db8a4',\n",
       " 'TrainingJobArn': 'arn:aws:sagemaker:ap-northeast-2:834160605896:training-job/0521-flow-hpo-210521-0413-001-f79db8a4',\n",
       " 'CreationTime': datetime.datetime(2021, 5, 21, 4, 13, 50, tzinfo=tzlocal()),\n",
       " 'TrainingStartTime': datetime.datetime(2021, 5, 21, 4, 16, 16, tzinfo=tzlocal()),\n",
       " 'TrainingEndTime': datetime.datetime(2021, 5, 21, 4, 17, 27, tzinfo=tzlocal()),\n",
       " 'TrainingJobStatus': 'Completed',\n",
       " 'TunedHyperParameters': {'learning_rate': '0.06947714428339878',\n",
       "  'use_bias': 'False'},\n",
       " 'FinalHyperParameterTuningJobObjectiveMetric': {'MetricName': 'test:mse',\n",
       "  'Value': 70205997056.0},\n",
       " 'ObjectiveStatus': 'Succeeded'}"
      ]
     },
     "execution_count": 22,
     "metadata": {},
     "output_type": "execute_result"
    }
   ],
   "source": [
    "tuning_job_result = sagemaker_client.describe_hyper_parameter_tuning_job(HyperParameterTuningJobName=job_name)\n",
    "\n",
    "tuning_job_result['BestTrainingJob']"
   ]
  },
  {
   "cell_type": "code",
   "execution_count": 23,
   "metadata": {},
   "outputs": [
    {
     "data": {
      "text/html": [
       "<div>\n",
       "<style scoped>\n",
       "    .dataframe tbody tr th:only-of-type {\n",
       "        vertical-align: middle;\n",
       "    }\n",
       "\n",
       "    .dataframe tbody tr th {\n",
       "        vertical-align: top;\n",
       "    }\n",
       "\n",
       "    .dataframe thead th {\n",
       "        text-align: right;\n",
       "    }\n",
       "</style>\n",
       "<table border=\"1\" class=\"dataframe\">\n",
       "  <thead>\n",
       "    <tr style=\"text-align: right;\">\n",
       "      <th></th>\n",
       "      <th>learning_rate</th>\n",
       "      <th>use_bias</th>\n",
       "      <th>TrainingJobName</th>\n",
       "      <th>TrainingJobStatus</th>\n",
       "      <th>FinalObjectiveValue</th>\n",
       "      <th>TrainingStartTime</th>\n",
       "      <th>TrainingEndTime</th>\n",
       "      <th>TrainingElapsedTimeSeconds</th>\n",
       "    </tr>\n",
       "  </thead>\n",
       "  <tbody>\n",
       "    <tr>\n",
       "      <th>0</th>\n",
       "      <td>0.010101</td>\n",
       "      <td>False</td>\n",
       "      <td>0521-flow-hpo-210521-0413-003-9feeecf7</td>\n",
       "      <td>Completed</td>\n",
       "      <td>7.078478e+10</td>\n",
       "      <td>2021-05-21 04:16:12+00:00</td>\n",
       "      <td>2021-05-21 04:17:46+00:00</td>\n",
       "      <td>94.0</td>\n",
       "    </tr>\n",
       "    <tr>\n",
       "      <th>1</th>\n",
       "      <td>0.002456</td>\n",
       "      <td>False</td>\n",
       "      <td>0521-flow-hpo-210521-0413-002-be17e10a</td>\n",
       "      <td>Completed</td>\n",
       "      <td>1.534885e+11</td>\n",
       "      <td>2021-05-21 04:16:26+00:00</td>\n",
       "      <td>2021-05-21 04:17:38+00:00</td>\n",
       "      <td>72.0</td>\n",
       "    </tr>\n",
       "    <tr>\n",
       "      <th>2</th>\n",
       "      <td>0.069477</td>\n",
       "      <td>False</td>\n",
       "      <td>0521-flow-hpo-210521-0413-001-f79db8a4</td>\n",
       "      <td>Completed</td>\n",
       "      <td>7.020600e+10</td>\n",
       "      <td>2021-05-21 04:16:16+00:00</td>\n",
       "      <td>2021-05-21 04:17:27+00:00</td>\n",
       "      <td>71.0</td>\n",
       "    </tr>\n",
       "  </tbody>\n",
       "</table>\n",
       "</div>"
      ],
      "text/plain": [
       "   learning_rate use_bias                         TrainingJobName  \\\n",
       "0       0.010101    False  0521-flow-hpo-210521-0413-003-9feeecf7   \n",
       "1       0.002456    False  0521-flow-hpo-210521-0413-002-be17e10a   \n",
       "2       0.069477    False  0521-flow-hpo-210521-0413-001-f79db8a4   \n",
       "\n",
       "  TrainingJobStatus  FinalObjectiveValue         TrainingStartTime  \\\n",
       "0         Completed         7.078478e+10 2021-05-21 04:16:12+00:00   \n",
       "1         Completed         1.534885e+11 2021-05-21 04:16:26+00:00   \n",
       "2         Completed         7.020600e+10 2021-05-21 04:16:16+00:00   \n",
       "\n",
       "            TrainingEndTime  TrainingElapsedTimeSeconds  \n",
       "0 2021-05-21 04:17:46+00:00                        94.0  \n",
       "1 2021-05-21 04:17:38+00:00                        72.0  \n",
       "2 2021-05-21 04:17:27+00:00                        71.0  "
      ]
     },
     "execution_count": 23,
     "metadata": {},
     "output_type": "execute_result"
    }
   ],
   "source": [
    "tuner_analysis = sagemaker.HyperparameterTuningJobAnalytics(job_name)\n",
    "tuner_analysis.dataframe()"
   ]
  },
  {
   "cell_type": "markdown",
   "metadata": {},
   "source": [
    "## Deploy Model"
   ]
  },
  {
   "cell_type": "code",
   "execution_count": 24,
   "metadata": {},
   "outputs": [
    {
     "name": "stdout",
     "output_type": "stream",
     "text": [
      "\n",
      "2021-05-21 04:17:27 Starting - Preparing the instances for training\n",
      "2021-05-21 04:17:27 Downloading - Downloading input data\n",
      "2021-05-21 04:17:27 Training - Training image download completed. Training in progress.\n",
      "2021-05-21 04:17:27 Uploading - Uploading generated training model\n",
      "2021-05-21 04:17:27 Completed - Training job completed"
     ]
    },
    {
     "name": "stderr",
     "output_type": "stream",
     "text": [
      "Defaulting to the only supported framework/algorithm version: 1. Ignoring framework/algorithm version: 1.\n"
     ]
    },
    {
     "name": "stdout",
     "output_type": "stream",
     "text": [
      "\n",
      "-------------!"
     ]
    }
   ],
   "source": [
    "predictor = tuner.deploy(initial_instance_count=1, instance_type=\"ml.m4.xlarge\")"
   ]
  },
  {
   "cell_type": "code",
   "execution_count": 51,
   "metadata": {},
   "outputs": [
    {
     "name": "stdout",
     "output_type": "stream",
     "text": [
      "[1320.]\n",
      "255000.0\n",
      "[3020.]\n",
      "808100.0\n",
      "[1680.]\n",
      "500000.0\n",
      "[1300.]\n",
      "676500.0\n",
      "[1700.]\n",
      "511718.0\n",
      "[2740.]\n",
      "625000.0\n",
      "[3580.]\n",
      "879900.0\n",
      "[1770.]\n",
      "355000.0\n",
      "[7440.]\n",
      "4208000.0\n",
      "[1400.]\n",
      "185000.0\n"
     ]
    },
    {
     "data": {
      "text/plain": [
       "[label {\n",
       "   key: \"score\"\n",
       "   value {\n",
       "     float32_tensor {\n",
       "       values: 344588.15625\n",
       "     }\n",
       "   }\n",
       " },\n",
       " label {\n",
       "   key: \"score\"\n",
       "   value {\n",
       "     float32_tensor {\n",
       "       values: 788375.9375\n",
       "     }\n",
       "   }\n",
       " },\n",
       " label {\n",
       "   key: \"score\"\n",
       "   value {\n",
       "     float32_tensor {\n",
       "       values: 438566.75\n",
       "     }\n",
       "   }\n",
       " },\n",
       " label {\n",
       "   key: \"score\"\n",
       "   value {\n",
       "     float32_tensor {\n",
       "       values: 339367.125\n",
       "     }\n",
       "   }\n",
       " },\n",
       " label {\n",
       "   key: \"score\"\n",
       "   value {\n",
       "     float32_tensor {\n",
       "       values: 443787.78125\n",
       "     }\n",
       "   }\n",
       " },\n",
       " label {\n",
       "   key: \"score\"\n",
       "   value {\n",
       "     float32_tensor {\n",
       "       values: 715281.5\n",
       "     }\n",
       "   }\n",
       " },\n",
       " label {\n",
       "   key: \"score\"\n",
       "   value {\n",
       "     float32_tensor {\n",
       "       values: 934564.875\n",
       "     }\n",
       "   }\n",
       " },\n",
       " label {\n",
       "   key: \"score\"\n",
       "   value {\n",
       "     float32_tensor {\n",
       "       values: 462061.40625\n",
       "     }\n",
       "   }\n",
       " },\n",
       " label {\n",
       "   key: \"score\"\n",
       "   value {\n",
       "     float32_tensor {\n",
       "       values: 1942224.125\n",
       "     }\n",
       "   }\n",
       " },\n",
       " label {\n",
       "   key: \"score\"\n",
       "   value {\n",
       "     float32_tensor {\n",
       "       values: 365472.28125\n",
       "     }\n",
       "   }\n",
       " }]"
      ]
     },
     "execution_count": 51,
     "metadata": {},
     "output_type": "execute_result"
    }
   ],
   "source": [
    "for i in range(0, 10):\n",
    "    print(test_features[i])\n",
    "    print(test_labels[i])\n",
    "\n",
    "predictor.predict(test_features[0:10])"
   ]
  }
 ],
 "metadata": {
  "instance_type": "ml.g4dn.xlarge",
  "kernelspec": {
   "display_name": "Python 3 (PyTorch 1.6 Python 3.6 GPU Optimized)",
   "language": "python",
   "name": "python3__SAGEMAKER_INTERNAL__arn:aws:sagemaker:ap-northeast-2:806072073708:image/pytorch-1.6-gpu-py36-cu110-ubuntu18.04-v3"
  },
  "language_info": {
   "codemirror_mode": {
    "name": "ipython",
    "version": 3
   },
   "file_extension": ".py",
   "mimetype": "text/x-python",
   "name": "python",
   "nbconvert_exporter": "python",
   "pygments_lexer": "ipython3",
   "version": "3.6.13"
  }
 },
 "nbformat": 4,
 "nbformat_minor": 4
}
