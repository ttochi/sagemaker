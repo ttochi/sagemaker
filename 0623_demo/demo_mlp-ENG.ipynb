{
 "cells": [
  {
   "cell_type": "markdown",
   "metadata": {},
   "source": [
    "# ML Training in MLP\n",
    "\n",
    "We'll train the same CNN model in MLP\n",
    "\n",
    "## Sequence of demo\n",
    "#### Training is done in the following order:\n",
    "1. Build development environment\n",
    "2. Prepare input data\n",
    "3. Modify training code (input data, output model)\n",
    "4. Test training code\n",
    "5. Run training job\n",
    "6. Monitoring (job status, log etc)\n",
    "7. Analysis saved models"
   ]
  },
  {
   "cell_type": "markdown",
   "metadata": {},
   "source": [
    "## 1. Build development environment\n",
    "\n",
    "### Set up the Testing Chamber\n",
    "\n",
    "Testing Chamber is used to prepare training (not for actual ML training)\n",
    "\n",
    "- Establish custom environment.\n",
    "- Code modification and debugging.\n",
    "\n",
    "Used training envrionment is \"ubuntu18.04-python3.8-jupyter-cuda10.1-pytorch1.7.1\""
   ]
  },
  {
   "cell_type": "markdown",
   "metadata": {},
   "source": [
    "## 2. Prepare input data\n",
    "\n",
    "### Download the CIFAR-10 dataset\n",
    "\n",
    "I prepared `get_cifar10.py` file which download cifar10 dataset and convert to pytorch `DataLoader` type."
   ]
  },
  {
   "cell_type": "code",
   "execution_count": null,
   "metadata": {},
   "outputs": [],
   "source": [
    "from get_cifar10 import get_train_data_loader, get_test_data_loader, imshow, classes\n",
    "\n",
    "trainloader = get_train_data_loader()\n",
    "testloader = get_test_data_loader()"
   ]
  },
  {
   "cell_type": "markdown",
   "metadata": {},
   "source": [
    "### Data preview"
   ]
  },
  {
   "cell_type": "code",
   "execution_count": null,
   "metadata": {},
   "outputs": [],
   "source": [
    "import numpy as np\n",
    "import torchvision, torch\n",
    "\n",
    "# get some random training images\n",
    "dataiter = iter(trainloader)\n",
    "images, labels = dataiter.next()\n",
    "\n",
    "# show images\n",
    "imshow(torchvision.utils.make_grid(images))\n",
    "\n",
    "# print labels\n",
    "print(\" \".join(\"%9s\" % classes[labels[j]] for j in range(4)))"
   ]
  },
  {
   "cell_type": "markdown",
   "metadata": {},
   "source": [
    "### Save the dataset in GPFS volume\n",
    "\n",
    "We will save our datasets to user volume (GPFS).  \n",
    "If users save thier data in GPFS, they can use the data in several jobs."
   ]
  },
  {
   "cell_type": "code",
   "execution_count": null,
   "metadata": {},
   "outputs": [],
   "source": [
    "!mv ./data /gpfs-volume/cifar10"
   ]
  },
  {
   "cell_type": "markdown",
   "metadata": {},
   "source": [
    "## 3. Modify training code\n",
    "\n",
    "### Prepared pre-developed code\n",
    "```\n",
    "source\n",
    "├── my_cnn.py    # CNN Model network code\n",
    "└── train.py     # training and evaluation code\n",
    "```\n",
    "\n",
    "For using this code in SageMaker, I created `train_mlp.py` file."
   ]
  },
  {
   "cell_type": "code",
   "execution_count": null,
   "metadata": {},
   "outputs": [],
   "source": [
    "!diff source/train.py source/train_mlp.py"
   ]
  },
  {
   "cell_type": "markdown",
   "metadata": {},
   "source": [
    "### What to modify\n",
    "\n",
    "- In order to register the output model after finish job, add code block that use `mltracker` sdk.\n",
    "- For logging parameter, metric, model artifacts"
   ]
  },
  {
   "cell_type": "markdown",
   "metadata": {},
   "source": [
    "## 4. Test training code\n",
    "\n",
    "After code modification, user should check whether the code actually working.  \n",
    "For the test, run the execution command in this environment with epoch 1."
   ]
  },
  {
   "cell_type": "code",
   "execution_count": null,
   "metadata": {},
   "outputs": [],
   "source": [
    "!python3 ~/testcode/0623_demo/source/train_mlp.py --epochs=1 --lr=0.01 --batch=64 --data-dir='/gpfs-volume/cifar10'"
   ]
  },
  {
   "cell_type": "markdown",
   "metadata": {},
   "source": [
    "## 5. Run training job\n",
    "\n",
    "### Save testing chamber env to custom image\n",
    "After confirming the job, we can save current environment as it is to the custom image.\n",
    "\n",
    "### Define training job spec\n",
    "Create a training job by modifying the gpu spec and exec command with the same environment as the test environment.\n",
    "\n",
    "- Container image\n",
    "- Job name\n",
    "- GPU Pool & Core\n",
    "- GPU count\n",
    "- Output Model Set\n",
    "- Execution command\n",
    "\n",
    "```sh\n",
    "python3 ~/testcode/0623_demo/source/train_mlp.py --epochs=50 --lr=0.01 --batch=64  --data-dir='/gpfs-volume/cifar10'\n",
    "```"
   ]
  },
  {
   "cell_type": "markdown",
   "metadata": {},
   "source": [
    "## 6. Monitoring (job status, log etc)\n",
    "\n",
    "User can check job status and job log through web interface."
   ]
  },
  {
   "cell_type": "markdown",
   "metadata": {},
   "source": [
    "## 7. Analysis saved models\n",
    "\n",
    "User can check the model from the training result on the Model Set screen."
   ]
  }
 ],
 "metadata": {
  "instance_type": "ml.t3.medium",
  "kernelspec": {
   "display_name": "Python 3 (Data Science)",
   "language": "python",
   "name": "python3__SAGEMAKER_INTERNAL__arn:aws:sagemaker:ap-northeast-2:806072073708:image/datascience-1.0"
  },
  "language_info": {
   "codemirror_mode": {
    "name": "ipython",
    "version": 3
   },
   "file_extension": ".py",
   "mimetype": "text/x-python",
   "name": "python",
   "nbconvert_exporter": "python",
   "pygments_lexer": "ipython3",
   "version": "3.7.10"
  }
 },
 "nbformat": 4,
 "nbformat_minor": 4
}
