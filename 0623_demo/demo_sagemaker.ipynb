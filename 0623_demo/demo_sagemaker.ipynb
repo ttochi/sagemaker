{
 "cells": [
  {
   "cell_type": "markdown",
   "metadata": {},
   "source": [
    "# ML Training in SageMaker\n",
    "\n",
    "The model used for this notebook is a basic Convolutional Neural Network (CNN).  \n",
    "We'll train the CNN to classify images using the [CIFAR-10 dataset](https://www.cs.toronto.edu/~kriz/cifar.html), a well-known computer vision dataset.\n",
    "\n",
    "![cifar10](https://maet3608.github.io/nuts-ml/_images/cifar10.png)\n",
    "\n",
    "## 데모 순서\n",
    "아래의 순서로 학습을 실행할 예정입니다.\n",
    "1. 개발 환경 구축\n",
    "2. Input Data 준비\n",
    "3. SOTA 코드 수정하기 (input data, output model)\n",
    "4. Development 환경에서 학습 정상 동작여부 확인\n",
    "5. Training job으로 던지기\n",
    "6. 학습 모니터링 (상태 확인, 로그 확인 etc)\n",
    "7. Deploy saved models"
   ]
  },
  {
   "cell_type": "markdown",
   "metadata": {},
   "source": [
    "## 1. Build development environment\n",
    "\n",
    "데모를 수행할 개발 환경으로 SageMaker studio를 사용하겠다\n",
    "\n",
    "- Sagemaker Studio is an extension of Jupyter Lab\n",
    "- SageMaker Studio is an ML development environment that can easily use the Sagemaker features\n",
    "- To load the notebook kernel, computing instances must be launched\n",
    "\n",
    "Training script for demo is based on `Pytorch` framework.\n",
    "So, before start the demo, we have to set the instance spec and kernel gateway image.\n",
    "- instance spec: ml.g4dn.xlarge (4vCPU + 16GB + 1GPU)\n",
    "- kernel image: PyTorch 1.6 Python 3.6 GPU Optimized"
   ]
  },
  {
   "cell_type": "markdown",
   "metadata": {},
   "source": [
    "## 2. Input Data 준비"
   ]
  },
  {
   "cell_type": "code",
   "execution_count": null,
   "metadata": {},
   "outputs": [],
   "source": [
    "from get_cifar10 import get_train_data_loader, get_test_data_loader, imshow, classes\n",
    "\n",
    "trainloader = get_train_data_loader()\n",
    "testloader = get_test_data_loader()"
   ]
  },
  {
   "cell_type": "code",
   "execution_count": null,
   "metadata": {},
   "outputs": [],
   "source": [
    "import numpy as np\n",
    "import torchvision, torch\n",
    "\n",
    "# get some random training images\n",
    "dataiter = iter(trainloader)\n",
    "images, labels = dataiter.next()\n",
    "\n",
    "# show images\n",
    "imshow(torchvision.utils.make_grid(images))\n",
    "\n",
    "# print labels\n",
    "print(\" \".join(\"%9s\" % classes[labels[j]] for j in range(4)))"
   ]
  },
  {
   "cell_type": "code",
   "execution_count": null,
   "metadata": {},
   "outputs": [],
   "source": [
    "import sagemaker\n",
    "\n",
    "sagemaker_session = sagemaker.Session()\n",
    "role = sagemaker.get_execution_role()\n",
    "\n",
    "inputs = sagemaker_session.upbload_data(path=\"data\", \n",
    "                                       bucket=sagemaker_session.default_bucket(), \n",
    "                                       key_prefix=\"data/cifar10\")\n",
    "\n",
    "print(inputs)"
   ]
  },
  {
   "cell_type": "markdown",
   "metadata": {},
   "source": [
    "## 2. Modify SOTA code\n",
    "\n",
    "sagemaker를 통해 생성된 trainig job이 우리가 지정한 input data를 받도록 하고, 생성된 모델을 관리하도록 하기 위해서  \n",
    "We have to set input data path and output model path using environment variable.\n",
    "\n",
    "This is SageMake [Environment variables guide](https://github.com/aws/sagemaker-training-toolkit/blob/master/ENVIRONMENT_VARIABLES.md)."
   ]
  },
  {
   "cell_type": "code",
   "execution_count": null,
   "metadata": {},
   "outputs": [],
   "source": [
    "!diff source/train.py source/train_sagemaker.py"
   ]
  },
  {
   "cell_type": "markdown",
   "metadata": {},
   "source": [
    "## 3. Development 환경에서 학습 정상 동작여부 확인\n",
    "\n",
    "SOTA 코드 수정을 완료하였으면, 실제로 해당 코드가 정상적으로 작동하는 지 확인해보아야 한다.  \n",
    "epoch을 1로 설정하여 job을 던진다.\n",
    "\n",
    "단 동작을 확인할 때마다 job을 생성하는 방식이기 때문에 시간이 오래걸린다.\n",
    "(mlp는 job에 interactive하게 접속하여 테스트 수행이 가능)\n",
    "\n",
    "보다 빠른 테스트를 위해서는 사용자의 local 환경에서도 테스트를 돌려볼 수 있다.  \n",
    "To train in Local Mode, it is necessary to have `docker-compose` or `nvidia-docker-compose` (for GPU) installed in the notebook instance."
   ]
  },
  {
   "cell_type": "code",
   "execution_count": null,
   "metadata": {},
   "outputs": [],
   "source": [
    "from sagemaker.pytorch.estimator import PyTorch\n",
    "\n",
    "instance_type = 'ml.p2.xlarge'\n",
    "\n",
    "pytorch_estimator = PyTorch(\n",
    "    source_dir='source',\n",
    "    entry_point='train_sagemaker.py',\n",
    "    framework_version=\"1.7.1\",\n",
    "    py_version='py3',\n",
    "    role=sagemaker.get_execution_role(),\n",
    "    base_job_name='06231855-cifar10-test',\n",
    "    instance_count=1,\n",
    "    instance_type=instance_type,\n",
    "    hyperparameters = {'epochs': 1, 'lr': 0.01, 'batch': 64},\n",
    "    metric_definitions=[\n",
    "        {'Name': 'accuracy', 'Regex': 'Test Accuracy: (\\S+)'}\n",
    "    ]\n",
    ")"
   ]
  },
  {
   "cell_type": "code",
   "execution_count": null,
   "metadata": {},
   "outputs": [],
   "source": [
    "pytorch_estimator.fit(inputs, logs=False)"
   ]
  },
  {
   "cell_type": "code",
   "execution_count": null,
   "metadata": {},
   "outputs": [],
   "source": [
    "sagemaker.analytics.TrainingJobAnalytics(pytorch_estimator._current_job_name, metric_names = ['accuracy']).dataframe()"
   ]
  },
  {
   "cell_type": "markdown",
   "metadata": {},
   "source": [
    "## 4. Training Job으로 던지기\n",
    "\n",
    "동작 확인이 완료되면 epoch을 다시 지정하고 원하는 스펙의 instance type에서 다시 job을 생성한다."
   ]
  },
  {
   "cell_type": "code",
   "execution_count": null,
   "metadata": {},
   "outputs": [],
   "source": [
    "from sagemaker.pytorch.estimator import PyTorch\n",
    "\n",
    "instance_type = 'ml.p3.2xlarge'\n",
    "\n",
    "pytorch_estimator = PyTorch(\n",
    "    source_dir='source',\n",
    "    entry_point='train_sagemaker.py',\n",
    "    framework_version=\"1.7.1\",\n",
    "    py_version='py3',\n",
    "    role=sagemaker.get_execution_role(),\n",
    "    base_job_name='06231930-cifar10-train',\n",
    "    instance_count=1,\n",
    "    instance_type=instance_type,\n",
    "    hyperparameters = {'epochs': 10, 'lr': 0.01, 'batch': 64},\n",
    "    metric_definitions=[\n",
    "        {'Name': 'accuracy', 'Regex': 'Test Accuracy: (\\S+)'}\n",
    "    ]\n",
    ")\n",
    "\n",
    "pytorch_estimator.fit(inputs, logs=False)"
   ]
  },
  {
   "cell_type": "markdown",
   "metadata": {},
   "source": [
    "## 5. 학습 모니터링 (상태 확인, 로그 확인 etc)\n",
    "\n",
    "학습 진행 상황을 web이나 sdk를 통해 확인이 가능하다.\n",
    "\n",
    "또한 학습이 완료되면 sagemaker sdk를 통해 metric 결과를 확인할 수 있으며 다양한 분석이 가능하다."
   ]
  },
  {
   "cell_type": "code",
   "execution_count": null,
   "metadata": {},
   "outputs": [],
   "source": [
    "sagemaker.analytics.TrainingJobAnalytics(pytorch_estimator._current_job_name, metric_names = ['accuracy']).dataframe()"
   ]
  },
  {
   "cell_type": "markdown",
   "metadata": {},
   "source": [
    "# 6. Deploy saved models\n",
    "\n",
    "After a PyTorch Estimator has been fit, we can host the newly created model in SageMaker.\n",
    "\n",
    "After calling `fit`, we can call deploy on a `PyTorch` Estimator to create a SageMaker Endpoint.  \n",
    "The Endpoint runs a <U>SageMaker-provided PyTorch model server</U> and hosts the <U>model produced by our training script</U>. (the model we saved to `model_dir`)\n",
    "\n",
    "`deploy` returns a Predictor object, which we can use to do inference on the Endpoint hosting PyTorch model.  \n",
    "Each Predictor provides a predict method which can do inference with numpy arrays or Python lists.  \n",
    "Inference arrays or lists are serialized and sent to the PyTorch model server.\n",
    "\n",
    "`predict` returns the result of inference against your model. By default, the inference result a NumPy array."
   ]
  },
  {
   "cell_type": "code",
   "execution_count": null,
   "metadata": {},
   "outputs": [],
   "source": [
    "cifar10_predictor = pytorch_estimator.deploy(initial_instance_count=1, instance_type='ml.p2.xlarge')"
   ]
  },
  {
   "cell_type": "code",
   "execution_count": null,
   "metadata": {},
   "outputs": [],
   "source": [
    "# get some test images\n",
    "dataiter = iter(testloader)\n",
    "images, labels = dataiter.next()\n",
    "\n",
    "# print images\n",
    "imshow(torchvision.utils.make_grid(images))\n",
    "print(\"GroundTruth: \", \" \".join(\"%4s\" % classes[labels[j]] for j in range(4)))\n",
    "\n",
    "outputs = cifar10_predictor.predict(images.numpy())\n",
    "\n",
    "_, predicted = torch.max(torch.from_numpy(np.array(outputs)), 1)\n",
    "\n",
    "print(\"Predicted: \", \" \".join(\"%4s\" % classes[predicted[j]] for j in range(4)))"
   ]
  },
  {
   "cell_type": "code",
   "execution_count": null,
   "metadata": {},
   "outputs": [],
   "source": [
    "# clean up\n",
    "pytorch_estimator.delete_endpoint()"
   ]
  }
 ],
 "metadata": {
  "instance_type": "ml.g4dn.xlarge",
  "kernelspec": {
   "display_name": "Python 3 (PyTorch 1.6 Python 3.6 GPU Optimized)",
   "language": "python",
   "name": "python3__SAGEMAKER_INTERNAL__arn:aws:sagemaker:ap-northeast-2:806072073708:image/pytorch-1.6-gpu-py36-cu110-ubuntu18.04-v3"
  },
  "language_info": {
   "codemirror_mode": {
    "name": "ipython",
    "version": 3
   },
   "file_extension": ".py",
   "mimetype": "text/x-python",
   "name": "python",
   "nbconvert_exporter": "python",
   "pygments_lexer": "ipython3",
   "version": "3.6.13"
  }
 },
 "nbformat": 4,
 "nbformat_minor": 4
}
