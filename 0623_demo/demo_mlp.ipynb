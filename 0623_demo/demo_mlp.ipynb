{
 "cells": [
  {
   "cell_type": "markdown",
   "metadata": {},
   "source": [
    "# ML Training in MLP\n",
    "\n",
    "We'll train the same training script in MLP\n",
    "\n",
    "## 데모 순서\n",
    "아래의 순서로 학습을 실행할 예정입니다.\n",
    "1. 개발 환경 구축\n",
    "2. Input Data 준비\n",
    "3. SOTA 코드 수정하기 (input data, output model)\n",
    "4. Development 환경에서 학습 정상 동작여부 확인\n",
    "5. Training job으로 던지기\n",
    "6. 학습 모니터링 (상태 확인, 로그 확인 etc)\n",
    "7. Analysis saved models"
   ]
  },
  {
   "cell_type": "markdown",
   "metadata": {},
   "source": [
    "## 1. Input Data 준비"
   ]
  },
  {
   "cell_type": "code",
   "execution_count": null,
   "metadata": {},
   "outputs": [],
   "source": [
    "!pip3 install matplotlib --user"
   ]
  },
  {
   "cell_type": "code",
   "execution_count": null,
   "metadata": {},
   "outputs": [],
   "source": [
    "from get_cifar10 import get_train_data_loader, get_test_data_loader, imshow, classes\n",
    "\n",
    "trainloader = get_train_data_loader()\n",
    "testloader = get_test_data_loader()"
   ]
  },
  {
   "cell_type": "code",
   "execution_count": null,
   "metadata": {},
   "outputs": [],
   "source": [
    "import numpy as np\n",
    "import torchvision, torch\n",
    "\n",
    "# get some random training images\n",
    "dataiter = iter(trainloader)\n",
    "images, labels = dataiter.next()\n",
    "\n",
    "# show images\n",
    "imshow(torchvision.utils.make_grid(images))\n",
    "\n",
    "# print labels\n",
    "print(\" \".join(\"%9s\" % classes[labels[j]] for j in range(4)))"
   ]
  },
  {
   "cell_type": "markdown",
   "metadata": {},
   "source": [
    "## 2. Modify SOTA code\n",
    "\n",
    "mlp를 통해 생성된 model을 관리하기 위해 mltracker sdk를 사용하도록 코드를 수정한다."
   ]
  },
  {
   "cell_type": "code",
   "execution_count": null,
   "metadata": {},
   "outputs": [],
   "source": [
    "!diff source/train.py source/train_mlp.py"
   ]
  },
  {
   "cell_type": "markdown",
   "metadata": {},
   "source": [
    "## 3. Development 환경에서 학습 정상 동작여부 확인\n",
    "\n",
    "SOTA 코드 수정을 완료하였으면, 실제로 해당 코드가 정상적으로 작동하는 지 확인해보아야 한다.  \n",
    "epoch을 1로 설정하여 테스트 환경에서 바로 execution command를 실행한다."
   ]
  },
  {
   "cell_type": "code",
   "execution_count": null,
   "metadata": {},
   "outputs": [],
   "source": [
    "!python3 ~/testcode/0623_demo/source/train_mlp.py --epochs=1 --lr=0.01 --batch=64"
   ]
  },
  {
   "cell_type": "markdown",
   "metadata": {},
   "source": [
    "## 4. Training Job으로 던지기\n",
    "\n",
    "동작 확인이 완료되면 테스트 환경을 그대로 custom image로 저장할 수 있다.  \n",
    "테스트 환경과 동일한 환경으로 gpu spec과 exec command를 수정하여 training job을 생성한다."
   ]
  },
  {
   "cell_type": "markdown",
   "metadata": {},
   "source": [
    "## 5. 학습 모니터링 (상태 확인, 로그 확인 etc)\n",
    "\n",
    "학습 진행 상황을 web이나 sdk를 통해 확인이 가능하다.\n",
    "\n",
    "또한 학습이 완료되면 sagemaker sdk를 통해 metric 결과를 확인할 수 있으며 다양한 분석이 가능하다."
   ]
  },
  {
   "cell_type": "markdown",
   "metadata": {},
   "source": [
    "# 6. Analysis saved models\n",
    "\n",
    "training 결과로 나온 모델에 대해서 Model Set 화면에서 확인할 수 있다."
   ]
  }
 ],
 "metadata": {
  "instance_type": "ml.t3.medium",
  "kernelspec": {
   "display_name": "Python 3 (Data Science)",
   "language": "python",
   "name": "python3__SAGEMAKER_INTERNAL__arn:aws:sagemaker:ap-northeast-2:806072073708:image/datascience-1.0"
  },
  "language_info": {
   "codemirror_mode": {
    "name": "ipython",
    "version": 3
   },
   "file_extension": ".py",
   "mimetype": "text/x-python",
   "name": "python",
   "nbconvert_exporter": "python",
   "pygments_lexer": "ipython3",
   "version": "3.7.10"
  }
 },
 "nbformat": 4,
 "nbformat_minor": 4
}
