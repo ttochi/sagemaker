{
 "cells": [
  {
   "cell_type": "markdown",
   "metadata": {},
   "source": [
    "# SageMaker Custom Image\n",
    "\n",
    "- User can configure training env and build the container image and save in registry\n",
    "- Must build according to the guide so that sagemaker can run\n",
    "- With image registry uri, users can share it with others"
   ]
  },
  {
   "cell_type": "code",
   "execution_count": null,
   "metadata": {},
   "outputs": [],
   "source": [
    "# dockerfile 빌드를 해야합니다\n",
    "\n",
    "# 빌드 --> 레지스트리에 업로드"
   ]
  },
  {
   "cell_type": "code",
   "execution_count": null,
   "metadata": {},
   "outputs": [],
   "source": [
    "from sagemaker.estimator import Estimator\n",
    "\n",
    "custom_image_uri = '834160605896.dkr.ecr.ap-northeast-2.amazonaws.com/mlp/mlp-base-image:pytorch-2'\n",
    "\n",
    "estimator = Estimator(\n",
    "    image_uri=custom_image_uri,\n",
    "    role=sagemaker.get_execution_role(),\n",
    "    base_job_name='customimage',\n",
    "    instance_count=1,\n",
    "    instance_type='ml.p2.xlarge'\n",
    ")\n",
    "\n",
    "# start training\n",
    "estimator.fit()"
   ]
  }
 ],
 "metadata": {
  "instance_type": "ml.t3.medium",
  "kernelspec": {
   "display_name": "Python 3 (Data Science)",
   "language": "python",
   "name": "python3__SAGEMAKER_INTERNAL__arn:aws:sagemaker:ap-northeast-2:806072073708:image/datascience-1.0"
  },
  "language_info": {
   "codemirror_mode": {
    "name": "ipython",
    "version": 3
   },
   "file_extension": ".py",
   "mimetype": "text/x-python",
   "name": "python",
   "nbconvert_exporter": "python",
   "pygments_lexer": "ipython3",
   "version": "3.7.10"
  }
 },
 "nbformat": 4,
 "nbformat_minor": 4
}
