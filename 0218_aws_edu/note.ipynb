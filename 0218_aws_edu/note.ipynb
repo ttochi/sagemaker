{
 "cells": [
  {
   "cell_type": "markdown",
   "id": "distributed-spanking",
   "metadata": {},
   "source": [
    "- [수업자료 모음](https://github.com/serithemage/AWS_AI_Study/tree/master/ML_Pipeline)\n",
    "- [Sagemaker SDK docs](https://sagemaker.readthedocs.io/en/stable/index.html)\n",
    "- [Autopilot 설명](https://aws.amazon.com/ko/getting-started/hands-on/create-machine-learning-model-automatically-sagemaker-autopilot/)\n",
    "- [데모 영상](https://www.youtube.com/watch?v=miIVGlq6OUk)\n",
    "- [Pandas SQL처럼 쓰기](https://medium.com/jbennetcodes/how-to-rewrite-your-sql-queries-in-pandas-and-more-149d341fc53e)"
   ]
  },
  {
   "cell_type": "markdown",
   "id": "intelligent-jones",
   "metadata": {},
   "source": [
    "# SageMaker Ground Truth\n",
    "\n",
    "AI개발자가 Labeling Job을 등록\n",
    "\n",
    "- data set 선택 (레이블링을 위한 manifest 파일도 필요)\n",
    "- task type 선택 (object detecting / classification etc)\n",
    "- 레이블링 인력 선택"
   ]
  },
  {
   "cell_type": "markdown",
   "id": "simple-fitness",
   "metadata": {},
   "source": [
    "# Notebook\n",
    "\n",
    "Jupyter notebook 인스턴스를 생성하여 jupyter lab, notebook, sagemaker studio에서 사용이 가능\n",
    "(참고로 sagemaker studio는 jupyter lab 코드를 기반으로 만들어진 tool임)\n",
    "\n",
    "> jupyter lab으로 작업하면 껐다켜도 작업물이 그대로 남아있음 (인스턴스 개념)\n",
    "반면 sagemaker studio는 노트북을 껐다키면 디렉토리에 따라 작업물이 날라간다고 함.. (container 재시작 개념이라고 함)\n",
    "\n",
    "Notebook instance 설정 시 아래 옵션들을 설정할 수 있음\n",
    "- instance type\n",
    "- life cycle 설정 (사전에 등록한 node 실행 스크립트)\n",
    "- network 설정\n",
    "- git repository"
   ]
  },
  {
   "cell_type": "markdown",
   "id": "white-halifax",
   "metadata": {},
   "source": [
    "# Training\n",
    "\n",
    "SageMaker SDK를 통해 `Estimator`를 정의하고 training job을 수행시킬 수 있음\n",
    "Estimator 정의 시 instance type, container 등을 설정할 수 있음.\n",
    "\n",
    "SDK를 통해 AWS 내장 알고리즘들을 쉽게 사용할 수 있음 (`Xgboost`, `LinearLearner` 등)\n",
    "사용자가 기존에 가지고 있던 알고리즘을 쓰려면 BYOC를 사용\n",
    "또는 AWS 자체 Framework 내에서 스크립트 모드로 알고리즘 작성이 가능\n",
    "\n",
    "\n",
    "- [BYOC](https://www.sagemaker-workshop-kr.com/kr/sagemaker/_module_8.html)\n",
    "- [Script Mode Example](https://github.com/aws-samples/amazon-sagemaker-script-mode)"
   ]
  },
  {
   "cell_type": "code",
   "execution_count": null,
   "id": "occupational-incident",
   "metadata": {},
   "outputs": [],
   "source": []
  }
 ],
 "metadata": {
  "kernelspec": {
   "display_name": "conda_mxnet_p36",
   "language": "python",
   "name": "conda_mxnet_p36"
  },
  "language_info": {
   "codemirror_mode": {
    "name": "ipython",
    "version": 3
   },
   "file_extension": ".py",
   "mimetype": "text/x-python",
   "name": "python",
   "nbconvert_exporter": "python",
   "pygments_lexer": "ipython3",
   "version": "3.6.10"
  }
 },
 "nbformat": 4,
 "nbformat_minor": 5
}
